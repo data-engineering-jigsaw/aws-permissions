{
 "cells": [
  {
   "cell_type": "markdown",
   "id": "ef4171c1-4bb2-4301-9fff-60b2313fea02",
   "metadata": {},
   "source": [
    "# Permissions Code Along"
   ]
  },
  {
   "cell_type": "markdown",
   "id": "bee423d8-0707-4aa9-bb18-29a6f90ffabb",
   "metadata": {},
   "source": [
    "### Introduction"
   ]
  },
  {
   "cell_type": "markdown",
   "id": "b219dcf5-e7cf-47f3-acc0-f16e0f0662bc",
   "metadata": {},
   "source": [
    "Now that we set up a second IAM user, and have access to this user from the command line, let's see what we can do with this user."
   ]
  },
  {
   "cell_type": "markdown",
   "id": "5ff6fd02-9429-4256-9e21-215aec87e5af",
   "metadata": {},
   "source": [
    "### Coding Along"
   ]
  },
  {
   "cell_type": "markdown",
   "id": "f5428c59-47a6-488e-b69a-8c318d13b320",
   "metadata": {},
   "source": [
    "So remember that we are logged in as our `codealong-user`, and that we granted this user both s3 and iam access.  (You can run `python 1-iam.py` to confirm this is still the case).  \n",
    "\n",
    "\n",
    "Ok, so now let's explore our user's s3 access.\n",
    "\n",
    "> The code below is in the `2-iam-s3.py` file."
   ]
  },
  {
   "cell_type": "markdown",
   "id": "f44ff9ff-856e-4d79-885d-6a7f0f2d6a8f",
   "metadata": {},
   "source": [
    "So below, we connect to the s3 resource, and then right away see that we get an access denied error if we try to create an S3 bucket."
   ]
  },
  {
   "cell_type": "markdown",
   "id": "f3cbdaa1-4d41-431c-959c-480940f7080d",
   "metadata": {},
   "source": [
    "```python\n",
    "s3 = boto3.client('s3')\n",
    "\n",
    "s3.create_bucket(Bucket = 'jigsawspecialsample') \n",
    "# Access denied\n",
    "```"
   ]
  },
  {
   "cell_type": "markdown",
   "id": "0300b5aa-93c5-40a2-b8f4-080383fd6a90",
   "metadata": {},
   "source": [
    "This makes sense.  Remember that our current user, only has list and read access.  So let's make sure that we still have this ability.  Below, specify a bucket that you have created in your account."
   ]
  },
  {
   "cell_type": "markdown",
   "id": "c05dfa74-1035-41d5-9f8d-af266e5a4194",
   "metadata": {},
   "source": [
    "```python\n",
    "s3.list_objects_v2(Bucket = 'jigsawtxdrinks')\n",
    "    # Note that we can list ojects from a bucket from the same account, even if that bucket is private\n",
    "```"
   ]
  },
  {
   "cell_type": "markdown",
   "id": "dffc364f-fe0b-44fa-bad2-515e84c740ae",
   "metadata": {},
   "source": [
    "```python\n",
    "s3.put_object(Body='Text Contents', Bucket='jigsawtxdrinks', Key='example.txt')\n",
    "    # However, for a bucket that is not publicly accessible, we cannot add a new object\n",
    "```"
   ]
  },
  {
   "cell_type": "markdown",
   "id": "ee8a9048-9ae6-4d51-b885-587bafa2c09b",
   "metadata": {},
   "source": [
    "Ok, so we saw above some expected behavior.  As a user that has s3 get access, we can list objects in a bucket, so long as that bucket is in the same account.  However, we have no ability to create an object in a bucket that is not publicly accessible."
   ]
  },
  {
   "cell_type": "markdown",
   "id": "aad0ea35-4fc0-46a9-9db9-8ab5d3dd719b",
   "metadata": {},
   "source": [
    "### Interacting with Resource Policies"
   ]
  },
  {
   "cell_type": "markdown",
   "id": "cdb23ebd-e78d-44c4-9073-eceac391a5da",
   "metadata": {},
   "source": [
    "Ok, now so far we have explored the policies attached to an IAM user.  But now let's see how they interact with the policies on a resource, like S3.\n",
    "\n",
    "So go to S3 in the AWS web console, and create a new bucket, and after entering a name for the bucket, make it publicly accessible.\n",
    "\n",
    "> Do this by unchecking the block all public access, which will make the bucket publicly accessible.  And then check the warning checkbox underneath."
   ]
  },
  {
   "cell_type": "markdown",
   "id": "5c415e69-0291-4e80-b4e2-43debac8e9e5",
   "metadata": {},
   "source": [
    "<img src=\"./uncheck-s3.png\" width=\"70%\">"
   ]
  },
  {
   "cell_type": "markdown",
   "id": "6bb6697e-332b-4c60-8f6e-fbbb489f4223",
   "metadata": {},
   "source": [
    "Now let's see if this public access enables our `codealong-user` to add an object to the bucket.\n",
    "\n",
    "```python\n",
    "s3_client.put_object(Body='Text Contents', Bucket=bucket_name, Key='example.txt')\n",
    "\n",
    "# An error occurred (AccessDenied) when calling the PutObject operation: Access Denied\n",
    "```\n",
    "\n",
    "As we can see, we still get an access denied."
   ]
  },
  {
   "cell_type": "markdown",
   "id": "b7f8ebd0-74a8-4cc6-bfab-d3f6919b1351",
   "metadata": {},
   "source": [
    "Now let's click on the bucket, and then click on the bucket policy, and add something like the following.\n",
    "\n",
    "> Note: Under **resource**, you'll need to add the arn (amazon resource name) of the s3 bucket.  And you'll need to add a `/*` at the end to provide access to all of the objects in the bucket."
   ]
  },
  {
   "cell_type": "markdown",
   "id": "06fa343d-7345-48ed-a28a-063741e3815a",
   "metadata": {},
   "source": [
    "```json\n",
    "{\n",
    "    \"Version\": \"2012-10-17\",\n",
    "    \"Statement\": [\n",
    "        {\n",
    "            \"Sid\": \"PublicReadPut\",\n",
    "            \"Effect\": \"Allow\",\n",
    "            \"Principal\": \"*\",\n",
    "            \"Action\": [\n",
    "                \"s3:PutObject\",\n",
    "                \"s3:PutObjectAcl\",\n",
    "                \"s3:GetObject\",\n",
    "                \"s3:GetObjectAcl\",\n",
    "                \"s3:DeleteObject\"\n",
    "            ],\n",
    "            \"Resource\": \"arn:aws:s3:::codealongbucketjigsaw/*\"\n",
    "        }\n",
    "    ]\n",
    "}\n",
    "```"
   ]
  },
  {
   "cell_type": "markdown",
   "id": "b6ecac86-51ba-4de7-b911-1aa05cc83c5f",
   "metadata": {},
   "source": [
    "So let's take a look at this policy above.  Once again, we have outer keys of `Version` and `Statement`. The `Sid` is the statement id, and we are granting an \"Allow\" effect to various actions. One new key is the `Principal`, which are the users or resources we are granting access to.  \n",
    "\n",
    "> Above we are specifying a `*` for Principal, which grants this access to any AWS user.  But if you type `aws iam list-users`, you'll see that each user is also granted an arn, and we could paste a list of those arns if we only wanted to grant access to those users."
   ]
  },
  {
   "cell_type": "markdown",
   "id": "1286ffc4-b29b-4350-887b-1cdce0736cd0",
   "metadata": {},
   "source": [
    "Under get actions, notice that we are providing the ability to get and put objects, as well as the ability to retreive and change the Acl, which is the access control list.  The access control list defines who has access to an S3 bucket or object (you can read more [here](https://docs.aws.amazon.com/AmazonS3/latest/userguide/acl-overview.html)).  "
   ]
  },
  {
   "cell_type": "markdown",
   "id": "24e68a43-48e8-4df7-b451-ccbe3cf907c8",
   "metadata": {},
   "source": [
    "So this time, if we call the `put_object` method, we'll see that we *can* create a new object in the bucket.  Even if our current user does not have that access."
   ]
  },
  {
   "cell_type": "markdown",
   "id": "d41c92a6-1b6c-4c1f-8b77-00fe41fb6093",
   "metadata": {},
   "source": [
    "```python\n",
    "s3.put_object(Body='Text Contents', Bucket=bucket_name, Key='example.txt')\n",
    "```"
   ]
  },
  {
   "cell_type": "markdown",
   "id": "da505797-c73f-4bfb-9576-952132e58e05",
   "metadata": {},
   "source": [
    "If you look at the s3 bucket, you'll see that the object has been added to the bucket.\n",
    "\n",
    "So here we can see that while there is not explicit put access on the IAM user, because there is explicit access on the bucket itself, that wins out, and we can still create an object."
   ]
  },
  {
   "cell_type": "markdown",
   "id": "fb254998-6fef-4009-8897-58cf631779c9",
   "metadata": {},
   "source": [
    "### Modifying the ACL"
   ]
  },
  {
   "cell_type": "markdown",
   "id": "ac4cd7cb-6f97-4b2a-8dce-fcceeb3594b3",
   "metadata": {},
   "source": [
    "Ok, so now let's start modifying the ACL.  We can begin by changing the principal to our a different user.  Type `aws iam list-users`, and copy the arn of a user you want to provide access to (not the codealong-user).  For example, an ARN of one of my users looks like the following:\n",
    "\n",
    "```json\n",
    "arn:aws:iam::086729879076:user/total_access\n",
    "```\n",
    "\n",
    "And so let's update the policy for the S3 bucket to be something like the following:\n",
    "\n",
    "```json\n",
    "\"Principal\": {\n",
    "    \"AWS\": \"arn:aws:iam::086729879076:user/total_access\"\n",
    "    },\n",
    "```"
   ]
  },
  {
   "cell_type": "markdown",
   "id": "09eb1c7b-0dd5-46c3-84f2-b67899dd09e1",
   "metadata": {},
   "source": [
    "From there, try to call the `put_object` command again, to confirm we no longer have access.\n",
    "\n",
    "```python\n",
    "s3.put_object(Body='Text Contents', Bucket=bucket_name, Key='example.txt')\n",
    "# Access Denied\n",
    "```\n",
    "\n",
    "This obviously makes sense as neither our user's IAM policy or the bucket policy is allowing for access."
   ]
  },
  {
   "cell_type": "markdown",
   "id": "9ff0595c-c30f-43e1-9934-6f8e0a141dfe",
   "metadata": {},
   "source": [
    "### Making other updates"
   ]
  },
  {
   "cell_type": "markdown",
   "id": "275c7715-d1ce-455e-a6da-8a6abf89adf6",
   "metadata": {},
   "source": [
    "What if we would like to make other changes to our bucket.  If you click on the Edit button, under policy, you'll see the option to click on the `Policy generator`."
   ]
  },
  {
   "cell_type": "markdown",
   "id": "a9c4f384-56cb-43ba-beb7-af8b0754996a",
   "metadata": {},
   "source": [
    "<img src=\"./policy-generator.png\" width=\"90%\">"
   ]
  },
  {
   "cell_type": "markdown",
   "id": "2dd5add8-5249-46c9-8842-39a8dcd1c523",
   "metadata": {},
   "source": [
    "So click on that.  And from there, under `Select Type of Policy`, choose the S3 Bucket Policy."
   ]
  },
  {
   "cell_type": "markdown",
   "id": "4fd487ad-65b6-4a52-b62a-5102ad76ddf0",
   "metadata": {},
   "source": [
    "And then fill in some relevant information for the principal, resource, and the amazon resource name (which should be your bucket name)."
   ]
  },
  {
   "cell_type": "markdown",
   "id": "ac05085d-958e-4162-aa05-16b3c47a6bf7",
   "metadata": {},
   "source": [
    "<img src=\"./generate-policy.png\" width=\"90%\">"
   ]
  },
  {
   "cell_type": "markdown",
   "id": "398d797e-c0d0-4cb5-8d6d-de7fe0cbe0fa",
   "metadata": {},
   "source": [
    "Afterwards, if you scroll down, you'll see a generate policy button. And then clicking on that button will display the json for your policy."
   ]
  },
  {
   "cell_type": "markdown",
   "id": "cf9ee162-faad-411e-a263-9bfe257935c0",
   "metadata": {},
   "source": [
    "### Summary"
   ]
  },
  {
   "cell_type": "markdown",
   "id": "58b630c6-2940-43a9-9e70-c68413ec6623",
   "metadata": {},
   "source": [
    "Ok, so in this lesson, we saw how our user with S3readonlyaccess could in fact read s3 buckets from the account, but could not create new objects or new buckets.  But then we saw that when we explicitly allowed for the access from the bucket, that the user could then create objects in the bucket.\n",
    "\n",
    "Looking at the ACL, there were new keys of \"Principal\" where we can specify who the statement applies to.  And we also specified the resource, placing the ARN of the relevant bucket followed by `/*` to allow for access to the objects in the bucket.\n",
    "\n",
    "```json\n",
    "{\n",
    "    \"Version\": \"2012-10-17\",\n",
    "    \"Statement\": [\n",
    "        {\n",
    "            \"Sid\": \"PublicReadPut\",\n",
    "            \"Effect\": \"Allow\",\n",
    "            \"Principal\": \"*\",\n",
    "            \"Action\": [\n",
    "                \"s3:PutObject\",\n",
    "                \"s3:PutObjectAcl\",\n",
    "                \"s3:GetObject\",\n",
    "                \"s3:GetObjectAcl\",\n",
    "                \"s3:DeleteObject\"\n",
    "            ],\n",
    "            \"Resource\": \"arn:aws:s3:::codealongbucketjigsaw/*\"\n",
    "        }\n",
    "    ]\n",
    "}\n",
    "```"
   ]
  },
  {
   "cell_type": "markdown",
   "id": "bc544dbc-3e6f-43fb-8203-d8942445b393",
   "metadata": {},
   "source": [
    "From there, we saw that we can see how to generate other policies through the [AWS policy generator](https://awspolicygen.s3.amazonaws.com/policygen.html)."
   ]
  },
  {
   "cell_type": "markdown",
   "id": "014f022e-6f16-46a7-801c-177384463619",
   "metadata": {},
   "source": [
    "### Resources"
   ]
  },
  {
   "cell_type": "markdown",
   "id": "441b12f6-8fa5-43f8-8435-5b6cdb4490e1",
   "metadata": {},
   "source": [
    "[ACL Overview](https://docs.aws.amazon.com/AmazonS3/latest/userguide/acl-overview.html)\n",
    "\n",
    "[Iam and bucket policies](https://aws.amazon.com/blogs/security/iam-policies-and-bucket-policies-and-acls-oh-my-controlling-access-to-s3-resources/)\n",
    "\n",
    "[IAM Policies](https://start.jcolemorrison.com/aws-iam-policies-in-a-nutshell/)"
   ]
  }
 ],
 "metadata": {
  "kernelspec": {
   "display_name": "Python 3 (ipykernel)",
   "language": "python",
   "name": "python3"
  },
  "language_info": {
   "codemirror_mode": {
    "name": "ipython",
    "version": 3
   },
   "file_extension": ".py",
   "mimetype": "text/x-python",
   "name": "python",
   "nbconvert_exporter": "python",
   "pygments_lexer": "ipython3",
   "version": "3.9.12"
  }
 },
 "nbformat": 4,
 "nbformat_minor": 5
}
