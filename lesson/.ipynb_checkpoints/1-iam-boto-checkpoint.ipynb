{
 "cells": [
  {
   "cell_type": "markdown",
   "id": "ef4171c1-4bb2-4301-9fff-60b2313fea02",
   "metadata": {},
   "source": [
    "# IAM Boto Code Along"
   ]
  },
  {
   "cell_type": "markdown",
   "id": "bee423d8-0707-4aa9-bb18-29a6f90ffabb",
   "metadata": {},
   "source": [
    "### Introduction"
   ]
  },
  {
   "cell_type": "markdown",
   "id": "b219dcf5-e7cf-47f3-acc0-f16e0f0662bc",
   "metadata": {},
   "source": [
    "In this lesson, we'll practice working with AWS permissions.  Let's get started."
   ]
  },
  {
   "cell_type": "markdown",
   "id": "9f81f91c-cd65-4b34-8e7c-eb96ef06b099",
   "metadata": {},
   "source": [
    "### Getting started"
   ]
  },
  {
   "cell_type": "markdown",
   "id": "2e84ec57-6cb2-4093-998c-fa15d513485e",
   "metadata": {},
   "source": [
    "Let's get set up by creating a new user.  You can do so by logging into the aws console, and then typing IAM.  From there, click on `Add users`, and from there type on `codealong-user`."
   ]
  },
  {
   "cell_type": "markdown",
   "id": "fc5f22bf-49a4-40cd-906b-981c7f60e7e9",
   "metadata": {},
   "source": [
    "<img src=\"./codealong-user.png\" width=\"100%\">"
   ]
  },
  {
   "cell_type": "markdown",
   "id": "35dd33ca-53cb-488d-b70b-da2629a14ee8",
   "metadata": {},
   "source": [
    "From here you can start granting access to the user.  For example, let's say we assign read only access.  \n",
    "\n",
    "Search for read only access, and then you can take a look at this by clicking on the plus sign next to Amazons3ReadOnly access.\n",
    "\n",
    "> And check the box to the left.  "
   ]
  },
  {
   "cell_type": "markdown",
   "id": "83783e14-7af2-4ea1-ba0a-9d6417badf45",
   "metadata": {},
   "source": [
    "<img src=\"./permissions.png\" width=\"100%\">"
   ]
  },
  {
   "cell_type": "markdown",
   "id": "101cfb67-591a-44a8-b115-a61839cfc9cb",
   "metadata": {},
   "source": [
    "Let's also place a check mark next to IamReadOnlyAccess."
   ]
  },
  {
   "cell_type": "markdown",
   "id": "efe5b72e-81e4-485c-ab75-edea5d583d33",
   "metadata": {},
   "source": [
    "After finishing, we should see the following:"
   ]
  },
  {
   "cell_type": "markdown",
   "id": "79b01ba2-657f-4b4d-87ab-17ebca6959d5",
   "metadata": {},
   "source": [
    "<img src=\"./iam-user.png\" width=\"70%\">"
   ]
  },
  {
   "cell_type": "markdown",
   "id": "017a0ed6-bf13-4b35-9b45-e4c2d384672b",
   "metadata": {},
   "source": [
    "And then we can click on `Create User`.\n",
    "\n",
    "After creating the user, we'll want to grant set up access to this user from the command line.  So click on the `codealong-user`, and then click on the `Security Credentials`, and then `Create Access Key` followed by CLI to specify that you want this for CLI access."
   ]
  },
  {
   "cell_type": "markdown",
   "id": "6a6dde91-a112-4e5b-a1c4-b00ddc909134",
   "metadata": {},
   "source": [
    "Now, from here, we can add command line access to this user with something like the following:"
   ]
  },
  {
   "cell_type": "markdown",
   "id": "c347be40-962f-47f1-9cd9-e293e928ab46",
   "metadata": {},
   "source": [
    "```bash\n",
    "aws configure --profile codealong-user\n",
    "```"
   ]
  },
  {
   "cell_type": "markdown",
   "id": "46d618d5-0f2f-4021-8ea7-2e71ff8f3a0b",
   "metadata": {},
   "source": [
    "Paste in your AWS Access Key ID, and secret access key id, as requested.  You can specify the region to be `us-east-1` or whichever region is closest to you."
   ]
  },
  {
   "cell_type": "markdown",
   "id": "164d7909-2339-4423-a469-32297234ce4b",
   "metadata": {},
   "source": [
    "Ok, now this just added a new user to your `~/.aws/credentials` file.  Type `cat ~/.aws/credentials` to view it.  You'll see that the default user is still the original user.  So change `[codealong-user]` to `[default]`, and change the original `[default]` to `[admin]` for now."
   ]
  },
  {
   "cell_type": "markdown",
   "id": "c005cd29-e9d2-4c5e-a4fb-e4d1af3cee7e",
   "metadata": {},
   "source": [
    "This way, when we use the boto3 library, we'll be using our codealong-user."
   ]
  },
  {
   "cell_type": "markdown",
   "id": "7dc06abf-3538-4c68-a873-aab88b3a1b82",
   "metadata": {},
   "source": [
    "We can confirm this by running the `1-iam.py` file.  You should see printed out something like the following:"
   ]
  },
  {
   "cell_type": "markdown",
   "id": "799be395-340f-4bfa-846c-c8bcd4a84d95",
   "metadata": {},
   "source": [
    "<img src=\"./iam-policies.png\">"
   ]
  },
  {
   "cell_type": "markdown",
   "id": "b3ea7bc0-4075-4070-a6e5-2c130b46a3d9",
   "metadata": {},
   "source": [
    "Then open up the file, and notice how we accomplished this. "
   ]
  },
  {
   "cell_type": "markdown",
   "id": "f131bf23-6949-4fa8-bd0c-34312f36ff76",
   "metadata": {},
   "source": [
    "```python\n",
    "import boto3\n",
    "# Create an IAM client\n",
    "iam_client = boto3.client('iam')\n",
    "\n",
    "# Get the current user\n",
    "response = iam_client.get_user()\n",
    "\n",
    "# # Access the user details\n",
    "username = response['User']['UserName']\n",
    "print(\"User Name:\", username)\n",
    "\n",
    "response = iam_client.list_attached_user_policies(UserName=username)\n",
    "attached_policies = response['AttachedPolicies']\n",
    "print('attached_policies', attached_policies)\n",
    "```"
   ]
  },
  {
   "cell_type": "markdown",
   "id": "8ad2d111-e9ad-4ea7-bfa3-c120b50b81d4",
   "metadata": {},
   "source": [
    "So above, we connected to the iam client, called `get_user` to get the current user, and then from there, printed out the username, which we saw was `codealong-user`.  Then we called `list_attached_user_policies` to see the policies related to that user."
   ]
  },
  {
   "cell_type": "markdown",
   "id": "f1be36f7-1ad1-4b9e-80b9-b83fd2e63c2d",
   "metadata": {},
   "source": [
    "> Note that if we did not grant `IAM get access` to our codealong-user above, we would not have been able to invoke the above functions regarding the iam resource."
   ]
  },
  {
   "cell_type": "markdown",
   "id": "652aff1f-2722-4803-a8d1-6482c7b19fff",
   "metadata": {},
   "source": [
    "### Seeing our First Policy"
   ]
  },
  {
   "cell_type": "markdown",
   "id": "4144979c-0750-46a1-818c-002cd9bb0c1d",
   "metadata": {},
   "source": [
    "Let's finish up by looking at that first policy that we added to our user.  Remember that we added this S3 policy to the user, when we first created the user."
   ]
  },
  {
   "cell_type": "markdown",
   "id": "eea2d48c-637d-4d51-8300-f6752df6dff3",
   "metadata": {},
   "source": [
    "<img src=\"./permissions.png\" width=\"100%\">"
   ]
  },
  {
   "cell_type": "markdown",
   "id": "510cd957-f49c-4584-a7f9-af2dd77648b3",
   "metadata": {},
   "source": [
    "Let's take a deeper look."
   ]
  },
  {
   "cell_type": "markdown",
   "id": "6a8d7ff3-574b-4ee8-80b7-e6b71f6cc90a",
   "metadata": {},
   "source": [
    "```python\n",
    "{\n",
    "    \"Version\": \"2012-10-17\",\n",
    "    \"Statement\": [\n",
    "        {\n",
    "            \"Effect\": \"Allow\",\n",
    "            \"Action\": [\n",
    "                \"s3:Get*\",\n",
    "                \"s3:List*\",\n",
    "                \"s3-object-lambda:Get*\",\n",
    "                \"s3-object-lambda:List*\"\n",
    "            ],\n",
    "            \"Resource\": \"*\"\n",
    "        }\n",
    "    ]\n",
    "}\n",
    "```"
   ]
  },
  {
   "cell_type": "markdown",
   "id": "94f3835d-86c4-4c4c-ae0b-02c3fec3af05",
   "metadata": {},
   "source": [
    "Ok, so notice that there are only two outer keys: `Version` and `Statement`.  Version is the API version of AWS that we are using: here the 2012 API, which is most recent.  And then `Statement` takes a list of dictionaries, with each dictionary defining a statement.  \n",
    "\n",
    "In the above, we are granting an `Allow` (in other words permission) to our IAM user, `codealong-user` to invoke the actions of listing and getting. The `*` in `s3:Get*` means that it has access to all of the related Get actions.  Then we can see the `Resource`.  This is where can indicate which resources we have this access to.  Above, we are granting the specified actions to any S3 resource.   "
   ]
  },
  {
   "cell_type": "markdown",
   "id": "46006e1d-4372-415c-ac37-f3d1e44aad39",
   "metadata": {},
   "source": [
    "> You'll also see that we have the actions of `s3-object-lambda:Get*`.  This means that we can also set up s3 to invoke a lambda function when that s3 object is retrieved.  (It's not a big deal)."
   ]
  },
  {
   "cell_type": "markdown",
   "id": "5cab9e8d-f202-46d8-9f63-08aabf0f53a3",
   "metadata": {
    "tags": []
   },
   "source": [
    "Finally, ote that the above is an *IAM policy*.  This means that it is a policy attached to a user or group.  As we'll see later, we can also attach policies on the resource itself, like an S3 bucket, that specifies which users are allowed to access it.\n",
    "\n",
    "In the next lesson, we'll work with this s3 access.  But for now, that's enough."
   ]
  },
  {
   "cell_type": "markdown",
   "id": "98062206-59de-4d5e-a828-053d6773289c",
   "metadata": {},
   "source": [
    "### Summary"
   ]
  },
  {
   "cell_type": "markdown",
   "id": "54113f31-e712-46f3-a7ad-bdb2b46e712c",
   "metadata": {},
   "source": [
    "In this lesson, we moved through setting up permissions for a new iam user.  We reviewed setting up these permissions, and adding a separate profile to access from the command line.\n",
    "\n",
    "We then saw how we can view the current user through boto, and the related permissions through boto.  \n",
    "\n",
    "Finally, we moved through understanding the s3 policy attached to our user."
   ]
  },
  {
   "cell_type": "markdown",
   "id": "9f09e0a5-9e37-4fe4-8fde-a2ca2d4a13af",
   "metadata": {},
   "source": [
    "### Resources"
   ]
  },
  {
   "cell_type": "markdown",
   "id": "441b12f6-8fa5-43f8-8435-5b6cdb4490e1",
   "metadata": {},
   "source": [
    "[Iam and bucket policies](https://aws.amazon.com/blogs/security/iam-policies-and-bucket-policies-and-acls-oh-my-controlling-access-to-s3-resources/)\n",
    "\n",
    "[IAM Policies](https://start.jcolemorrison.com/aws-iam-policies-in-a-nutshell/)"
   ]
  }
 ],
 "metadata": {
  "kernelspec": {
   "display_name": "Python 3 (ipykernel)",
   "language": "python",
   "name": "python3"
  },
  "language_info": {
   "codemirror_mode": {
    "name": "ipython",
    "version": 3
   },
   "file_extension": ".py",
   "mimetype": "text/x-python",
   "name": "python",
   "nbconvert_exporter": "python",
   "pygments_lexer": "ipython3",
   "version": "3.9.12"
  }
 },
 "nbformat": 4,
 "nbformat_minor": 5
}
