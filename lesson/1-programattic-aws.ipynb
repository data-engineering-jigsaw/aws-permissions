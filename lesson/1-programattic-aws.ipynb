{
 "cells": [
  {
   "cell_type": "markdown",
   "id": "ef4171c1-4bb2-4301-9fff-60b2313fea02",
   "metadata": {},
   "source": [
    "# Programmatic AWS"
   ]
  },
  {
   "cell_type": "markdown",
   "id": "bee423d8-0707-4aa9-bb18-29a6f90ffabb",
   "metadata": {},
   "source": [
    "### Introduction"
   ]
  },
  {
   "cell_type": "markdown",
   "id": "b219dcf5-e7cf-47f3-acc0-f16e0f0662bc",
   "metadata": {},
   "source": [
    "In this lesson, we'll see how we can work with AWS using the boto3 library."
   ]
  },
  {
   "cell_type": "markdown",
   "id": "26f52874-ccc5-4109-86c3-3374cc5aed19",
   "metadata": {},
   "source": [
    "### Starting with S3"
   ]
  },
  {
   "cell_type": "markdown",
   "id": "15fca2e6-0aca-4d90-af73-543e26fca42b",
   "metadata": {},
   "source": [
    "The boto library is a python library that allows us to interact with aws resources in our account.\n",
    "\n",
    "Let's get started by working with the s3 resource."
   ]
  },
  {
   "cell_type": "markdown",
   "id": "b6bfdd3f-0837-4cdb-85a4-54042aec51e8",
   "metadata": {},
   "source": [
    "You can get a sense of s3 by logging into aws, and then searching for s3 in the toolbar, and clicking on the s3 service."
   ]
  },
  {
   "cell_type": "markdown",
   "id": "d3d4efaa-ed64-4747-a07a-478079c8d657",
   "metadata": {},
   "source": [
    "<img src=\"./visit-s3.png\" width=\"100%\">"
   ]
  },
  {
   "cell_type": "markdown",
   "id": "fa63fd02-3719-4840-b025-320622215f79",
   "metadata": {},
   "source": [
    "From there, you'll see that s3 allows us to create these things called buckets -- which are just like folders -- and in that bucket we can store objects (ie. files).\n",
    "\n",
    "Get started by clicking on create bucket."
   ]
  },
  {
   "cell_type": "markdown",
   "id": "1ace82af-b8ec-456b-af6d-97f9cedd64f0",
   "metadata": {},
   "source": [
    "<img src=\"./s3-buckets.png\" width=\"100%\">"
   ]
  },
  {
   "cell_type": "markdown",
   "id": "983e9cea-991f-40eb-8169-499a7810bec5",
   "metadata": {},
   "source": [
    "And then let's create a new bucket."
   ]
  },
  {
   "cell_type": "markdown",
   "id": "52d9f561-09c7-4efc-b0a3-9c637aae81e9",
   "metadata": {},
   "source": [
    "> Your bucket name will need to be different."
   ]
  },
  {
   "cell_type": "markdown",
   "id": "87cc78c3-1721-4ce8-8fc9-20f7e6bf4a61",
   "metadata": {},
   "source": [
    "<img src=\"./s3-create-bucket.png\" width=\"80%\">"
   ]
  },
  {
   "cell_type": "markdown",
   "id": "02a368b4-f7aa-4e1b-96ff-e69a404a3cc1",
   "metadata": {},
   "source": [
    "Note that a bucket name must be unique across all of aws.  So you'll need to create a unique one."
   ]
  },
  {
   "cell_type": "markdown",
   "id": "25687690-287e-40cb-83e3-fa1c76db9ce4",
   "metadata": {},
   "source": [
    "From there, click on your bucket, and you can drag and drop a file into the bucket and then click on the upload button."
   ]
  },
  {
   "cell_type": "markdown",
   "id": "0af044bc-8e04-433c-b373-da49f56e71fd",
   "metadata": {},
   "source": [
    "<img src=\"./upload-file.png\" width=\"80%\">"
   ]
  },
  {
   "cell_type": "markdown",
   "id": "a21fabae-3a71-4657-96bc-46069c550ca3",
   "metadata": {},
   "source": [
    "> You can download the yelp lunch data [here](https://github.com/ledeprogram/courses/blob/master/foundations/mapping/tilemill/yelp-lunch-nyc.csv), if you prefer."
   ]
  },
  {
   "cell_type": "markdown",
   "id": "e4bc17da-b5dd-40df-aa1a-33481c19a709",
   "metadata": {},
   "source": [
    "Ok, so we just uploaded some an object to an s3 bucket."
   ]
  },
  {
   "cell_type": "markdown",
   "id": "3e9ecc65-7f50-4a1c-aead-c42aed07c9a1",
   "metadata": {},
   "source": [
    "### Access from the command line"
   ]
  },
  {
   "cell_type": "markdown",
   "id": "10156d2f-b000-4b21-b49a-97db6bea8a3c",
   "metadata": {},
   "source": [
    "It turns out that we should be able to view both the bucket and the object from our command line.  Type in `aws s3 ls` from your terminal."
   ]
  },
  {
   "cell_type": "markdown",
   "id": "bddf6dd5-9ab7-4b9c-885c-31f9f16b8e6c",
   "metadata": {},
   "source": [
    "You should see your bucket listed.  \n",
    "\n",
    "> Troubleshoot: If this did not work, you may have to take a look at the lessons on [setting up your aws account](https://colab.research.google.com/github/data-engineering-jigsaw/aws-iam/blob/main/index.ipynb) and [setting up the command line](https://colab.research.google.com/github/data-eng-10-21/aws-command-line/blob/main/2-aws-command-line.ipynb).\n",
    "\n",
    "Ok, so this worked because we previously called `aws configure` and then entered in our access key and secret access key.  Under ths hood, aws stored these credentials in a file on your computer located at `~/.aws/credentials`."
   ]
  },
  {
   "cell_type": "markdown",
   "id": "bc1835c8-c6f2-4913-8953-ddc0f51b7312",
   "metadata": {},
   "source": [
    "<img src=\"./creds.png\" width=\"80%\">"
   ]
  },
  {
   "cell_type": "markdown",
   "id": "fd027e43-02f8-4a5d-ab42-5f92e53640c4",
   "metadata": {},
   "source": [
    "### Working with Boto3"
   ]
  },
  {
   "cell_type": "markdown",
   "id": "8b517540-0ff3-4b68-9988-67e6cb8ecbdc",
   "metadata": {},
   "source": [
    "Ok, now enough of the AWS command line.  Let's move on to working with boto3."
   ]
  },
  {
   "cell_type": "markdown",
   "id": "3f0cf5d1-59da-4c88-bbb1-ea456b35757a",
   "metadata": {},
   "source": [
    "We can get started by running `pip3 install boto3`, or installing via the `requirements.txt` file in the `src` directory.\n",
    "\n"
   ]
  },
  {
   "cell_type": "code",
   "execution_count": null,
   "id": "4138f5f3-66d1-4694-8c6a-481b31fc5f2f",
   "metadata": {},
   "outputs": [],
   "source": []
  }
 ],
 "metadata": {
  "kernelspec": {
   "display_name": "Python 3 (ipykernel)",
   "language": "python",
   "name": "python3"
  },
  "language_info": {
   "codemirror_mode": {
    "name": "ipython",
    "version": 3
   },
   "file_extension": ".py",
   "mimetype": "text/x-python",
   "name": "python",
   "nbconvert_exporter": "python",
   "pygments_lexer": "ipython3",
   "version": "3.10.10"
  }
 },
 "nbformat": 4,
 "nbformat_minor": 5
}
